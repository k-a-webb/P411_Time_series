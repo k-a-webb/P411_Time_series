{
 "cells": [
  {
   "cell_type": "markdown",
   "metadata": {},
   "source": [
    "# P411 - Assignment 1\n",
    "Kristi Webb, Sept 18 2015\n",
    "\n",
    "github k-a-webb"
   ]
  },
  {
   "cell_type": "code",
   "execution_count": 32,
   "metadata": {
    "collapsed": false
   },
   "outputs": [],
   "source": [
    "import numpy as np\n",
    "import matplotlib.pyplot as plt\n",
    "import matplotlib.mlab as mlab\n",
    "%matplotlib inline\n",
    "import matplotlib.cm as cm # import the colormaps.\n",
    "import scipy.stats as stats\n",
    "from scipy.optimize import curve_fit"
   ]
  },
  {
   "cell_type": "markdown",
   "metadata": {},
   "source": [
    "# Q1: Show that the correlation co-efficient is indeed related to the fraction of varaince explained by a linear dependence.¶\n",
    "\n",
    "**1** To start, make a $N(0,1)$ random variable $x$, with 200,000 entries.  Then make a linearly dependent variable $y_i= a x_i + n_i$, where a is some amplitude, and $n_i$ is a random noise varaible.  Assume that $n_i$ is distributed as $N(0,n)$, where $n$ is the noise level.\n",
    "\n",
    "Calculate the correlation co-efficient $r_{xy}$ between $x$ and $y$ for 40 different values of $n$, logarithmically spaced between 0.01 and 100. (hint use `np.logspace`).  \n",
    "\n",
    "Plot $r_{xy}$ versus the inverse of the noise $n$ normalized by the standard devaition of the signal $ax_i$: $\\frac{a s_x}{n}$   You may want to use `ax.loglog` to visualize the orders of magnitude.  \n",
    "\n",
    "Comment on the resulting comparison."
   ]
  },
  {
   "cell_type": "code",
   "execution_count": 30,
   "metadata": {
    "collapsed": false
   },
   "outputs": [
    {
     "name": "stderr",
     "output_type": "stream",
     "text": [
      "/Users/kawebb/venv/lib/python2.7/site-packages/ipykernel/__main__.py:12: DeprecationWarning: using a non-integer number instead of an integer will result in an error in the future\n"
     ]
    },
    {
     "data": {
      "text/plain": [
       "<matplotlib.text.Text at 0x1123e7290>"
      ]
     },
     "execution_count": 30,
     "metadata": {},
     "output_type": "execute_result"
    },
    {
     "data": {
      "image/png": "[encoded data removed]",
      "text/plain": [
       "<matplotlib.figure.Figure at 0x112b20cd0>"
      ]
     },
     "metadata": {},
     "output_type": "display_data"
    }
   ],
   "source": [
    "N = 200000\n",
    "noise = 5\n",
    "amplitude=[25., 50., 100.]\n",
    "\n",
    "x = np.random.randn(N, 1)\n",
    "n = np.logspace(-2,2,num=40)\n",
    "\n",
    "r_xy = np.zeros_like(n)\n",
    "\n",
    "for a in amplitude:\n",
    "    for ii, nn in enumerate(n):\n",
    "        y = linear(x, a, np.random.randn(N, nn))\n",
    "        \n",
    "        #r = stats.pearsonr(x, y)[0]\n",
    "        #if len(r) == 0:\n",
    "        #    r_xy = 0.\n",
    "        #else:\n",
    "        #    r_xy = r\n",
    "        \n",
    "        r_xy[ii] = corr_coeff(x, y)\n",
    "        #print corr_coeff(x,y), stats.pearsonr(x, y)[0], r_xy\n",
    "\n",
    "        #r_xy_r = r_xy[~np.isnan(r_xy)]\n",
    "        #n_r = n[~np.isnan(r_xy)]\n",
    "        np.nan_to_num(r_xy)\n",
    "        \n",
    "    plt.plot(a*np.std(x)/n_r, r_xy, label='amp = {}'.format(a))\n",
    "    plt.ylim(0,a)\n",
    "plt.legend()\n",
    "plt.title(r'Correlation coefficient of $x_i=N(0,1)$ with $y_i = a*x_i + N(0,n)$')\n",
    "plt.xlabel(r'amplitude * $s_x$/$n_r$')\n",
    "plt.ylabel(r'$r_{xy}$')\n",
    "#plt.show()    "
   ]
  },
  {
   "cell_type": "markdown",
   "metadata": {},
   "source": [
    "<font color='red'>\n",
    "## Comment on the resulting comparison."
   ]
  },
  {
   "cell_type": "markdown",
   "metadata": {},
   "source": [
    "<hr>\n",
    "**2** Repeat the above, but with a different value of $a$.  Comment on how (and why) $a$ changes the value of $r_{xy}$. \n",
    "<hr>"
   ]
  },
  {
   "cell_type": "markdown",
   "metadata": {},
   "source": [
    "<font color='red'>\n",
    "## Comment on how (and why) $a$ changes the value of $r_{xy}$. "
   ]
  },
  {
   "cell_type": "markdown",
   "metadata": {},
   "source": [
    "<hr>\n",
    "## Q2: Monte Carlo on slopes and test versus student-t distribution\n",
    "\n",
    "**1** We stated without proof that the slope $b$ of a linear fit of $y$ to $x$ is distributed as a student-t distribution with $N-2$ degrees of freedom, with a standard devaition given by the standard deviation of $y$ around the fit model $\\tilde{y}$.   Lets test that emperically using a Monte Carlo technique.  \n",
    "\n",
    "First create an independet variable $x$ from 10 points from an $N(0,1)$ distribution.\n",
    "\n",
    "Next, using $n=1.0$, and $a=1.0$ create the dependent variables $y_i=a x_i + n_i$ where $n_i$ are drawn from the $N(0,n)$ distribution.  Calculate the slope $b$.  \n",
    "\n",
    "Do this 10000 times, and make a histogram of the resulting fits $b$.  Also histogram $s_{y|x}$ as defined in the notes.\n",
    "\n",
    "Comment on the histigrams\n",
    "<hr>"
   ]
  },
  {
   "cell_type": "code",
   "execution_count": 68,
   "metadata": {
    "collapsed": false
   },
   "outputs": [],
   "source": [
    "b_arr = np.zeros(10000)\n",
    "s_yx = np.zeros(10000)\n",
    "\n",
    "for i in np.arange(10000):\n",
    "    x = np.random.randn(10)\n",
    "    n = np.random.randn(1)\n",
    "    a = 1.\n",
    "    y = linear(x, a, n)\n",
    "    \n",
    "    m, b, r, p, s = stats.linregress(x,y)\n",
    "    b_arr[i] = b\n",
    "    s_yx[i] = samp_std(x,y,a,n)"
   ]
  },
  {
   "cell_type": "code",
   "execution_count": 91,
   "metadata": {
    "collapsed": false
   },
   "outputs": [
    {
     "name": "stderr",
     "output_type": "stream",
     "text": [
      "/Users/kawebb/venv/lib/python2.7/site-packages/ipykernel/__main__.py:2: DeprecationWarning: using a non-integer number instead of an integer will result in an error in the future\n",
      "  from ipykernel import kernelapp as app\n"
     ]
    },
    {
     "data": {
      "image/png": "[encoded data removed]",
      "text/plain": [
       "<matplotlib.figure.Figure at 0x114befb10>"
      ]
     },
     "metadata": {},
     "output_type": "display_data"
    }
   ],
   "source": [
    "plt.plot(x,y,'.',label='(x,y)')\n",
    "plt.plot(range(-2,2), m*range(-2,2)+b, label=\"slope of m=%1.2f with b=%1.2f\"%(m,b))\n",
    "plt.legend(loc=0)\n",
    "plt.xlabel('x');plt.ylabel('y');plt.title('Example of linear fit')\n",
    "plt.show()"
   ]
  },
  {
   "cell_type": "code",
   "execution_count": 59,
   "metadata": {
    "collapsed": false
   },
   "outputs": [
    {
     "data": {
      "image/png": "[encoded data removed]",
      "text/plain": [
       "<matplotlib.figure.Figure at 0x114e2d350>"
      ]
     },
     "metadata": {},
     "output_type": "display_data"
    }
   ],
   "source": [
    "plt.hist(b_arr, bins=100)\n",
    "plt.xlabel('b values')\n",
    "plt.ylabel('occurance')\n",
    "plt.show()"
   ]
  },
  {
   "cell_type": "markdown",
   "metadata": {},
   "source": [
    "$y_k = \\tilde{y}_k + \\epsilon_k$ where $\\epsilon_k$ is a noise process\n",
    "\n",
    "sample standard deviation of the observed values about the prediction:\n",
    "\\begin{equation}\n",
    "     s_{y|x} = \\left[\\frac{\\sum_{i=1}^N \\left( y_i-\\tilde{y}_i \\right)^2 }{N-2} \\right]^{1/2}\n",
    "\\end{equation}"
   ]
  },
  {
   "cell_type": "code",
   "execution_count": 70,
   "metadata": {
    "collapsed": false
   },
   "outputs": [
    {
     "data": {
      "image/png": "[encoded data removed]",
      "text/plain": [
       "<matplotlib.figure.Figure at 0x114f2a1d0>"
      ]
     },
     "metadata": {},
     "output_type": "display_data"
    }
   ],
   "source": [
    "plt.hist(b_arr, bins=100)\n",
    "plt.xlabel(r'$s_{y|x}$ values')\n",
    "plt.ylabel('occurance')\n",
    "plt.show()"
   ]
  },
  {
   "cell_type": "markdown",
   "metadata": {
    "collapsed": true
   },
   "source": [
    "<font color='red'>\n",
    "## Comment on the histograms"
   ]
  },
  {
   "cell_type": "markdown",
   "metadata": {
    "collapsed": true
   },
   "source": [
    "<hr>\n",
    "**2** Assuming $s_{y|x}=1.$ (which is the same as our value of $n$), plot the student-t probability density function on the histogram of b and show that they compare favorably (if they don't you might need to check your work!)\n",
    "<hr>"
   ]
  },
  {
   "cell_type": "code",
   "execution_count": null,
   "metadata": {
    "collapsed": true
   },
   "outputs": [],
   "source": []
  },
  {
   "cell_type": "markdown",
   "metadata": {},
   "source": [
    "<hr>\n",
    "**3** Do the same procedure for a different number of data points, and a different value for the noise level $n$.  Remember to scale your theoretical histogram by the new expected value of $s_{y|x}$.\n",
    "<hr>"
   ]
  },
  {
   "cell_type": "code",
   "execution_count": null,
   "metadata": {
    "collapsed": true
   },
   "outputs": [],
   "source": []
  },
  {
   "cell_type": "markdown",
   "metadata": {},
   "source": [
    "## Q3: Linear comparison of Deep Cove data to James Bay temperature data\n",
    "\n",
    "Data was collected from a number of weather stations by the Victoria Weather Network.  In the file below is hourly temperature data (in degrees Celsius) and we will consider two of the stations in that file:"
   ]
  },
  {
   "cell_type": "code",
   "execution_count": null,
   "metadata": {
    "collapsed": true
   },
   "outputs": [],
   "source": [
    "hourdata=np.genfromtxt('http://web.uvic.ca/~jklymak/Phy411/Data/AllHourly.txt')[[6,28],2:]\n",
    "dc = hourdata[0,:]\n",
    "jb=hourdata[1,:]\n",
    "dcc=dc[np.isfinite(dc+jb)]\n",
    "jb = jb[np.isfinite(dc+jb)]\n",
    "dc=dcc"
   ]
  },
  {
   "cell_type": "markdown",
   "metadata": {},
   "source": [
    "<hr>\n",
    "**1** Make a scatterplot of James Bay versus Deep Cove.\n",
    "<hr>"
   ]
  },
  {
   "cell_type": "code",
   "execution_count": null,
   "metadata": {
    "collapsed": true
   },
   "outputs": [],
   "source": []
  },
  {
   "cell_type": "markdown",
   "metadata": {},
   "source": [
    "<hr>\n",
    "**2** Compute the linear Correlation Co-efficient (without a canned routine)\n",
    "<hr>"
   ]
  },
  {
   "cell_type": "code",
   "execution_count": null,
   "metadata": {
    "collapsed": true
   },
   "outputs": [],
   "source": []
  },
  {
   "cell_type": "markdown",
   "metadata": {},
   "source": [
    "<hr>\n",
    "**3** Fit a straight line to the James Bay data as a fucntion of the Deep Cove data, and add to the scatter plot made above.  Comment on the fit.\n",
    "<hr>"
   ]
  },
  {
   "cell_type": "code",
   "execution_count": null,
   "metadata": {
    "collapsed": true
   },
   "outputs": [],
   "source": []
  },
  {
   "cell_type": "markdown",
   "metadata": {},
   "source": [
    "<font color='red'>\n",
    "## Comment on the fit."
   ]
  },
  {
   "cell_type": "markdown",
   "metadata": {},
   "source": [
    "<hr>\n",
    "**4** Add the confidence intervals to your fit, and comment.\n",
    "<hr>"
   ]
  },
  {
   "cell_type": "code",
   "execution_count": null,
   "metadata": {
    "collapsed": true
   },
   "outputs": [],
   "source": []
  },
  {
   "cell_type": "markdown",
   "metadata": {},
   "source": [
    "<font color='red'>\n",
    "## Comment"
   ]
  },
  {
   "cell_type": "markdown",
   "metadata": {},
   "source": [
    "<hr>\n",
    "**5** Note that we have assumed that the Deep Cove data is independent and that the James Bay data is dependent.  There is no reason to assume this!  Do the fit in the other direction, and compare the slopes.\n",
    "<hr>"
   ]
  },
  {
   "cell_type": "code",
   "execution_count": null,
   "metadata": {
    "collapsed": true
   },
   "outputs": [],
   "source": []
  },
  {
   "cell_type": "markdown",
   "metadata": {},
   "source": [
    "<font color='red'>\n",
    "## Compare the slopes"
   ]
  },
  {
   "cell_type": "markdown",
   "metadata": {},
   "source": [
    "**NOTE** There is a way to treat both axes independently called \"Neutral Regression\".  It is relatively simple, and involves normalizing the total distance of each point from the trend line. <a href=\"http://journals.ametsoc.org/doi/pdf/10.1175/1520-0426(1999)016%3C0876%3AAPFANR%3E2.0.CO%3B2\">(Marsden 1999)</a>. This technique is strongly preferred if there is no reason to think that one data set is dependent on the other.  A caveat is that the data sets shoudl be normalized before fitting so that the \"distance\" has meaning.  "
   ]
  },
  {
   "cell_type": "code",
   "execution_count": 73,
   "metadata": {
    "collapsed": false
   },
   "outputs": [],
   "source": [
    "def linear(x, a, n):\n",
    "    return a*x+n\n",
    "    \n",
    "def corr_coeff(x,y): \n",
    "    return np.sum((x - np.mean(x))*(y - np.mean(y)))/(np.std(x)*np.std(y)*(len(x)-1))\n",
    "\n",
    "def samp_std(x, y, a, n):\n",
    "    # If y given x is Normally distributed\n",
    "    return np.sqrt( np.sum( (x*a - linear(x, a, n))**2 ) / (len(x) - 2) )"
   ]
  },
  {
   "cell_type": "code",
   "execution_count": null,
   "metadata": {
    "collapsed": true
   },
   "outputs": [],
   "source": []
  }
 ],
 "metadata": {
  "kernelspec": {
   "display_name": "Python 2",
   "language": "python",
   "name": "python2"
  },
  "language_info": {
   "codemirror_mode": {
    "name": "ipython",
    "version": 2
   },
   "file_extension": ".py",
   "mimetype": "text/x-python",
   "name": "python",
   "nbconvert_exporter": "python",
   "pygments_lexer": "ipython2",
   "version": "2.7.10"
  }
 },
 "nbformat": 4,
 "nbformat_minor": 0
}
