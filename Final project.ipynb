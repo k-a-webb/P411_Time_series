{
 "cells": [
  {
   "cell_type": "code",
   "execution_count": 1,
   "metadata": {
    "collapsed": false
   },
   "outputs": [],
   "source": [
    "import matplotlib.pyplot as plt\n",
    "from matplotlib import mlab\n",
    "import matplotlib\n",
    "%matplotlib inline\n",
    "\n",
    "import numpy as np\n",
    "from scipy import interpolate, spatial\n",
    "import datetime"
   ]
  },
  {
   "cell_type": "code",
   "execution_count": null,
   "metadata": {
    "collapsed": true
   },
   "outputs": [],
   "source": [
    "def lagcorr(data, tau):\n",
    "    rho = 0.*np.array(tau)\n",
    "    for ind,t in enumerate(tau):\n",
    "        if t > 0:\n",
    "            rho[ind] = np.nanmean(data[t:]*data[:-t])  # nanmean necessary?\n",
    "            rho[ind] = rho[ind] / np.nanvar(data[t:-t])  # nanvar?\n",
    "        else:\n",
    "            rho[ind] = np.nanmean(data*data)\n",
    "            rho[ind] = rho[ind] / np.nanvar(data)\n",
    "    return rho"
   ]
  },
  {
   "cell_type": "markdown",
   "metadata": {},
   "source": [
    "# Minute data"
   ]
  },
  {
   "cell_type": "code",
   "execution_count": 2,
   "metadata": {
    "collapsed": false
   },
   "outputs": [],
   "source": [
    "# Minute data, 4 Schools\n",
    "mins, dc = np.loadtxt('/Users/kawebb/P411_git/MinuteData/DeepCoveNew.txt', unpack=True)\n",
    "jb = np.loadtxt('/Users/kawebb/P411_git/MinuteData/JamesBayNew.txt', usecols=([1]), unpack=True)\n",
    "jm = np.loadtxt('/Users/kawebb/P411_git/MinuteData/JohnMuirNew.txt', usecols=([1]), unpack=True)\n",
    "uv = np.loadtxt('/Users/kawebb/P411_git/MinuteData/UVicISCNew.txt', usecols=([1]), unpack=True)"
   ]
  },
  {
   "cell_type": "markdown",
   "metadata": {},
   "source": [
    "- john muir - hourdata 15\n",
    "- james bay - hourdata 14\n",
    "- uvic - hourdata 32\n",
    "- deep cove - hourdata 6"
   ]
  },
  {
   "cell_type": "raw",
   "metadata": {},
   "source": [
    "for data in [dc, jb, jm, uvic]:\n",
    "    plt.scatter(mins, data, alpha=0.2)\n",
    "    plt.xlim(mins[0], mins[-1])\n",
    "    plt.show()"
   ]
  },
  {
   "cell_type": "code",
   "execution_count": 3,
   "metadata": {
    "collapsed": false
   },
   "outputs": [],
   "source": [
    "### Fill in nans with mean of edges, and same temp as other years\n",
    "def interp_yr(data):\n",
    "    NN = 60*24*365\n",
    "    nans = np.where(np.isnan(data))[0]\n",
    "    for i in nans:\n",
    "        if i < NN:\n",
    "            data[i] = np.nanmean([data[i-1], data[i+1], data[i+NN], data[i+2*NN]])\n",
    "        elif i < 2*NN:\n",
    "            data[i] = np.nanmean([data[i-1], data[i+1], data[i+NN], data[i-NN]])\n",
    "        else:\n",
    "            data[i] = np.nanmean([data[i-1], data[i+1], data[i-2*NN], data[i-NN]])\n",
    "    return data - np.mean(data)\n",
    "\n",
    "dc = interp_yr(dc)\n",
    "jb = interp_yr(jb)\n",
    "jm = interp_yr(jm)\n",
    "uv = interp_yr(uv)"
   ]
  },
  {
   "cell_type": "raw",
   "metadata": {},
   "source": [
    "# fill in nan values with linear interpolation\n",
    "# THIS DOESNT SEEM TO WORK WITH THE FOURIER TRANSFORM\n",
    "\n",
    "def interp(data):\n",
    "    # 1d interpolation to fill in nan values\n",
    "    ok = -np.isnan(data)\n",
    "    xp = ok.ravel().nonzero()[0]\n",
    "    fp = data[-np.isnan(data)]\n",
    "    x  = np.isnan(data).ravel().nonzero()[0]\n",
    "    data[np.isnan(data)] = np.interp(x, xp, fp)\n",
    "    return data\n",
    "\n",
    "dc = interp(dc)\n",
    "jb = interp(jb)\n",
    "jm = interp(jm)\n",
    "uv = interp(uv)\n",
    "\n",
    "# remove mean\n",
    "dc -= np.mean(dc)\n",
    "jb -= np.mean(jb)\n",
    "jm -= np.mean(jm)\n",
    "uv -= np.mean(uv)"
   ]
  },
  {
   "cell_type": "raw",
   "metadata": {},
   "source": [
    "### jsut remove nan values\n",
    "# first col is time, second is temperature\n",
    "mindc, dc = np.loadtxt('/Users/kawebb/P411_git/MinuteData/DeepCoveNew.txt', unpack=True)\n",
    "minjb, jb = np.loadtxt('/Users/kawebb/P411_git/MinuteData/JamesBayNew.txt', unpack=True)\n",
    "minjm, jm = np.loadtxt('/Users/kawebb/P411_git/MinuteData/JohnMuirNew.txt', unpack=True)\n",
    "minuv, uv = np.loadtxt('/Users/kawebb/P411_git/MinuteData/UVicISCNew.txt', unpack=True)\n",
    "\n",
    "# instead of filling in nans, just skip these data points\n",
    "mindc = mindc[np.isfinite(dc)]\n",
    "dc = dc[np.isfinite(dc)]\n",
    "minjb = minjb[np.isfinite(jb)]\n",
    "jb = jb[np.isfinite(jb)]\n",
    "minjm = minjm[np.isfinite(jm)]\n",
    "jm = jm[np.isfinite(jm)]\n",
    "minuv = minuv[np.isfinite(uv)]\n",
    "uv = uv[np.isfinite(uv)]\n",
    "\n",
    "dc -= np.mean(dc)\n",
    "jb -= np.mean(jb)\n",
    "jm -= np.mean(jm)\n",
    "uv -= np.mean(uv)\n",
    "\n",
    "# I DONT THINK THIS WILL WORK becuase ft (for example) assumes linear data"
   ]
  },
  {
   "cell_type": "raw",
   "metadata": {
    "collapsed": false
   },
   "source": [
    "### Power spectrum - Assignment 4\n",
    "dt = 3600 # s\n",
    "\n",
    "def powerspec(data, dt):\n",
    "    N = len(data)\n",
    "    T = N*dt\n",
    "    f = np.linspace(0,N/2+0.2,N/2+1.)/T\n",
    "    \n",
    "    X = np.fft.fft(data)*dt\n",
    "    Gxx = X*np.conj(X)*2/T\n",
    "    Gxx = np.abs(Gxx[:N/2+1])\n",
    "    \n",
    "    return Gxx, f\n",
    "\n",
    "Gdc, f = powerspec(dc, dt)"
   ]
  },
  {
   "cell_type": "code",
   "execution_count": 30,
   "metadata": {
    "collapsed": false
   },
   "outputs": [],
   "source": [
    "### Power spectral density\n",
    "### Cross spectral density\n",
    "\n",
    "Nfft = 2048*12\n",
    "dt = 60.   # SI THIS CORRECT?\n",
    "args = {'NFFT':Nfft, 'Fs':1./dt, 'noverlap':Nfft/2., 'window':mlab.window_hanning}\n",
    "\n",
    "def specdensity(x, args, y=None):\n",
    "    px, f = mlab.psd(x, **args)\n",
    "    if y is not None:\n",
    "        py, f = mlab.psd(y, **args)\n",
    "        pxy, ff = mlab.csd(x, y, **args)\n",
    "        return px, py, pxy, f\n",
    "    else:\n",
    "        return px, f\n",
    "    \n",
    "Pdc, Pjb, Pdcjb, f = specdensity(dc, args, jb)\n",
    "Pjm, Pun, Pjmuv, f = specdensity(jm, args, uv)\n",
    "\n",
    "Pdcjm, ff = mlab.csd(dc, jm, **args)\n",
    "Pdcuv, ff,  = mlab.csd(dc, uv, **args)\n",
    "Pjbjm, ff = mlab.csd(jb, jm, **args)\n",
    "Pjbuv, ff = mlab.csd(jb, uv, **args)"
   ]
  },
  {
   "cell_type": "code",
   "execution_count": 31,
   "metadata": {
    "collapsed": false
   },
   "outputs": [
    {
     "data": {
      "image/png": "[encoded data removed]",
      "text/plain": [
       "<matplotlib.figure.Figure at 0x1151c1510>"
      ]
     },
     "metadata": {},
     "output_type": "display_data"
    }
   ],
   "source": [
    "plt.loglog(f, Pdc)\n",
    "\n",
    "yr = 3600.*24.*365.\n",
    "day = 3600.*24.\n",
    "plt.annotate('Annual', xy=(1./yr, 1.e3),  xycoords='data', xytext=(1./yr, 1.e-2), \n",
    "             textcoords='data', horizontalalignment='center', arrowprops=dict(arrowstyle=\"->\"))\n",
    "plt.annotate('Daily', xy=(1./day, 1.e3),  xycoords='data', xytext=(1./day, 1.e-2), textcoords='data', \n",
    "            horizontalalignment='center', arrowprops=dict(arrowstyle=\"->\"))\n",
    "plt.xlabel('f [Hz]') ; plt.ylabel(r'$G_{xx}(f)\\ \\ [(^oC)^2 Hz^{-1}]$') ; plt.show()\n",
    "\n",
    "# We see a clear daily signal in the spectrum, and likely an annual signal too. \n",
    "# The spikes at higher frequencies are at harmonics of the daily frequency, and \n",
    "# are due to the fact that the temperature signal is not a precise sine-wave."
   ]
  },
  {
   "cell_type": "markdown",
   "metadata": {},
   "source": [
    "### hanning window doesnt sample low frequency, which is why you dont see the yearly peak"
   ]
  },
  {
   "cell_type": "code",
   "execution_count": null,
   "metadata": {
    "collapsed": true
   },
   "outputs": [],
   "source": []
  },
  {
   "cell_type": "code",
   "execution_count": null,
   "metadata": {
    "collapsed": true
   },
   "outputs": [],
   "source": []
  },
  {
   "cell_type": "code",
   "execution_count": null,
   "metadata": {
    "collapsed": true
   },
   "outputs": [],
   "source": []
  },
  {
   "cell_type": "code",
   "execution_count": null,
   "metadata": {
    "collapsed": true
   },
   "outputs": [],
   "source": []
  },
  {
   "cell_type": "markdown",
   "metadata": {},
   "source": [
    "# Hourly data"
   ]
  },
  {
   "cell_type": "markdown",
   "metadata": {},
   "source": [
    "## ideas:\n",
    "- temperature differences inland vs coasts, seasonal\n",
    "- seasonal variances\n",
    "- east west\n",
    "- yearly fluctuations\n",
    "- interpolated missing data points from nearest neighbours\n",
    "\n",
    "### power spactra\n",
    "- correlations every 24h, 1yr etc\n",
    "  - combine spectra to reduce noise and get  clearer peak\n",
    "  - bandpass filtering\n",
    "- variation in temperature (amplitude) varies more in summer than winter\n",
    "- average summer temperature, winter, yearly -> linear equation, fit to majority of data\n",
    "\n",
    "### to keep in mind:\n",
    "- more data on coast than inland, how to keep track of percision?\n",
    "\n",
    "# in polygon function\n",
    "- use coastline to set limits on 2d interpolation"
   ]
  },
  {
   "cell_type": "code",
   "execution_count": 21,
   "metadata": {
    "collapsed": true
   },
   "outputs": [],
   "source": [
    "# Coastline\n",
    "# 1 degree of latitude is 60 nautical miles, but 1 degree of longitude is only 60*cos(lat) \n",
    "# nautical miles, so it is useful to scale your x and y axis so the aspect ratio is \n",
    "# [1 cos(lat)], where \"lat\" is some latitude that is on the center of your plot. This area \n",
    "# is small enough that this approximation will be good enough - for larger areas you need \n",
    "# to choose a projection from a sphere onto a map (i.e. the \"Mercator\", \"Azimuthal\" etc projections).\n",
    "coastfile = '/Users/kawebb/P411_git/Coast.txt'  # longitudes followed by latitudes\n",
    "coasts = np.loadtxt(coastfile)\n",
    "cstlng = coasts[:len(coasts)/2]\n",
    "cstlat = coasts[len(coasts)/2:]"
   ]
  },
  {
   "cell_type": "code",
   "execution_count": 87,
   "metadata": {
    "collapsed": false
   },
   "outputs": [],
   "source": [
    "# Hourly data, many stations\n",
    "# One-hour resolution temperature data is taken from the same network of 35 stations. \n",
    "# Data is on an even time grid, from 2009-01-01 08:00 UTC, with each row representing \n",
    "# a time, and each column a station. The first two rows are the longitude (degrees E) \n",
    "# and latitude (degrees N) of each station.\n",
    "hourfile = '/Users/kawebb/P411_git/AllHourly.txt'\n",
    "hourdata = np.loadtxt(hourfile)\n",
    "data = hourdata[:,2:]\n",
    "lng = hourdata[:,:1][:,0] - 360.  # -360 to fix that stations (0 to 360), coast (-180, 180).\n",
    "lat = hourdata[:,1:2][:,0]"
   ]
  },
  {
   "cell_type": "code",
   "execution_count": 88,
   "metadata": {
    "collapsed": false
   },
   "outputs": [],
   "source": [
    "### Make hour data\n",
    "# The data sets start on 1 Jan 2009 a minute after midnight local, or at 08:00 UTC = 733408.333.\n",
    "d = datetime.date(2012,1,1)\n",
    "tstart = 733408.333\n",
    "hours = np.arange(tstart, tstart+len(data[0])/24., 1./24.)  # step size is every hour\n",
    "d.fromordinal(int(hours[0])), d.fromordinal(int(hours[-1]))  # three years worth of data\n",
    "\n",
    "### First three measurements for all stations are nan, remove\n",
    "data = data[:,3:]\n",
    "hours = hours[3:]"
   ]
  },
  {
   "cell_type": "markdown",
   "metadata": {},
   "source": [
    "### Handling nan values, identifying stations with not enough data"
   ]
  },
  {
   "cell_type": "raw",
   "metadata": {},
   "source": [
    "for i in range(data.shape[0]):\n",
    "    plt.scatter(hours, data[i], label='data {}'.format(i), alpha=0.2)\n",
    "    plt.xlim(hours[0], hours[-1])\n",
    "    plt.legend()\n",
    "    plt.show()"
   ]
  },
  {
   "cell_type": "code",
   "execution_count": 89,
   "metadata": {
    "collapsed": false,
    "scrolled": false
   },
   "outputs": [
    {
     "name": "stderr",
     "output_type": "stream",
     "text": [
      "/Users/kawebb/venv/lib/python2.7/site-packages/matplotlib/axes/_base.py:1057: UnicodeWarning: Unicode equal comparison failed to convert both arguments to Unicode - interpreting them as being unequal\n",
      "  if aspect == 'normal':\n",
      "/Users/kawebb/venv/lib/python2.7/site-packages/matplotlib/axes/_base.py:1062: UnicodeWarning: Unicode equal comparison failed to convert both arguments to Unicode - interpreting them as being unequal\n",
      "  elif aspect in ('equal', 'auto'):\n"
     ]
    },
    {
     "data": {
      "image/png": "[encoded data removed]",
      "text/plain": [
       "<matplotlib.figure.Figure at 0x1156aa550>"
      ]
     },
     "metadata": {},
     "output_type": "display_data"
    }
   ],
   "source": [
    "### Plot stations, label those with hour data, minute data, and which we remove\n",
    "\n",
    "#latexify()\n",
    "fig, axs = plt.subplots(1,1, figsize=(5,5))\n",
    "axs.plot(cstlng, cstlat, '-k')\n",
    "axs.scatter(lng, lat, marker='o', color='g', label='Stations w/ hour data')\n",
    "i=[6, 15, 14, 32]\n",
    "axs.scatter(lng[i], lat[i], marker='o', color='c', label='Stations w/ hour and minute data')\n",
    "ix = [0, 11, 16, 19, 22, 23, 34]\n",
    "axs.scatter(lng[ix], lat[ix], marker='o', color='r', label='Removed')\n",
    "\n",
    "axs.set_xlabel(r'Longitude [deg]') ; axs.set_ylabel(r'cos(Latitude [deg])')\n",
    "axs.set_xlim(np.min(cstlng)-0.02, np.max(cstlng)+0.02)\n",
    "axs.set_ylim(np.min(cstlat)-0.02, np.max(cstlat)+0.02)\n",
    "axs.set_aspect(1/np.cos(48.6*np.pi/180.))\n",
    "plt.tight_layout()\n",
    "plt.legend(fontsize='small')\n",
    "#plt.savefig('map_stations.png')\n",
    "plt.show()"
   ]
  },
  {
   "cell_type": "code",
   "execution_count": 90,
   "metadata": {
    "collapsed": false
   },
   "outputs": [
    {
     "name": "stderr",
     "output_type": "stream",
     "text": [
      "/Users/kawebb/venv/lib/python2.7/site-packages/ipykernel/__main__.py:19: DeprecationWarning: numpy boolean negative (the unary `-` operator) is deprecated, use the bitwise_xor (the `^` operator) or the logical_xor function instead.\n",
      "/Users/kawebb/venv/lib/python2.7/site-packages/ipykernel/__main__.py:21: DeprecationWarning: numpy boolean negative (the unary `-` operator) is deprecated, use the bitwise_xor (the `^` operator) or the logical_xor function instead.\n"
     ]
    }
   ],
   "source": [
    "### Ignore data missing long spans of time\n",
    "\n",
    "# 0, 11, 16, 19, 22, 23, 34 - missing lots\n",
    "# 8, 10, 14, 17, 25, 30, 31 - missing a few months maybe\n",
    "\n",
    "# Valid stations\n",
    "ii = range(1,11)+range(12,16)+range(17,19)+range(20,22)+range(24,34)\n",
    "data = data[ii,:]\n",
    "lng = lng[ii]\n",
    "lat = lat[ii]\n",
    "\n",
    "tree = spatial.KDTree(zip(lng.ravel(), lat.ravel()))\n",
    "radius = 0.05  # in degrees\n",
    "coords = np.dstack([lng, lat])[0]\n",
    "\n",
    "def interp(data):\n",
    "    # 1d interpolation to fill in nan values\n",
    "    ok = -np.isnan(data)\n",
    "    xp = ok.ravel().nonzero()[0]\n",
    "    fp = data[-np.isnan(data)]\n",
    "    x  = np.isnan(data).ravel().nonzero()[0]\n",
    "    data[np.isnan(data)] = np.interp(x, xp, fp)\n",
    "    return data\n",
    "\n",
    "def interp_nn(data, coords, tree, radius):\n",
    "    \n",
    "    # Nearest neighbour search for interpolation\n",
    "    # replace value with average of neighbours\n",
    "    # MAKE SURE TO ADJUST WEIGHTING TO NEAREST NEIGHBOURS **********\n",
    "\n",
    "    for i in range(data.shape[0]):  # iterate through stations      \n",
    "        idxs = tree.query_ball_point(coords[i], radius)\n",
    "        if len(idxs) < 1:\n",
    "            print 'STOP'\n",
    "        nearby = data[idxs]\n",
    "        nans = np.where(np.isnan(data[i]))\n",
    "        for j in nans[0]:\n",
    "            data[i,j] = np.nanmean(nearby[:,j])\n",
    "        nans = np.where(np.isnan(data[i]))\n",
    "        if len(nans) > 0:\n",
    "            data[i,:] = interp(data[i,:])\n",
    "    return data\n",
    "\n",
    "data = interp_nn(data, coords, tree, radius)"
   ]
  },
  {
   "cell_type": "code",
   "execution_count": 165,
   "metadata": {
    "collapsed": false,
    "scrolled": false
   },
   "outputs": [
    {
     "data": {
      "image/png": "[encoded data removed]",
      "text/plain": [
       "<matplotlib.figure.Figure at 0x11112f350>"
      ]
     },
     "metadata": {},
     "output_type": "display_data"
    }
   ],
   "source": [
    "#latexify()\n",
    "fig, axs = plt.subplots(1,1, figsize=(5,5))\n",
    "axs.plot(cstlng, cstlat, '-k')\n",
    "axs.scatter(lng, lat, marker='o', color='g', label='Stations w/ hour data')\n",
    "i = [5, 12, 13, 26]  # deep cove, james bay, john muir, uvic\n",
    "axs.scatter(lng[i], lat[i], marker='o', color='r', label='Stations w/ hour and minute data')\n",
    "\n",
    "axs.set_xlabel(r'Longitude [deg]') ; axs.set_ylabel(r'cos(Latitude [deg])')\n",
    "axs.set_xlim(np.min(cstlng)-0.02, np.max(cstlng)+0.02)\n",
    "axs.set_ylim(np.min(cstlat)-0.02, np.max(cstlat)+0.02)\n",
    "axs.set_aspect(1/np.cos(48.6*np.pi/180.))\n",
    "plt.tight_layout()\n",
    "plt.legend(fontsize='small')\n",
    "#plt.savefig('map_stations.png')\n",
    "plt.show()"
   ]
  },
  {
   "cell_type": "raw",
   "metadata": {
    "collapsed": false
   },
   "source": [
    "# Make grid - Smallest distance between points is lateral, 0.234 deg\n",
    "# np.meshgrid makes a MxN array out of x (N-vector) and y (M-vector)\n",
    "xi = np.linspace(-123.2, -123.8, 1000)\n",
    "yi = np.linspace(-0.4, 0.1, 1000)\n",
    "X, Y = np.meshgrid(xi, yi)\n",
    "\n",
    "gs = 0.02\n",
    "\n",
    "z = data[:,-1]  # last measurement\n",
    "\n",
    "nx = len(xi)\n",
    "ny = len(yi)\n",
    "Zi = np.zeros((ny,nx))\n",
    "sigma = gs\n",
    "\n",
    "for sigma in [gs, 2*gs, 10*gs]:\n",
    "    for i in range(nx):\n",
    "        for j in range(ny):\n",
    "            rsq = (xi[i] - lng)**2 + (yi[j] - lat)**2\n",
    "            w = np.exp(-rsq/2./sigma**2)\n",
    "            w /= np.sum(w)\n",
    "            Zi[j,i] = np.sum(w*z)    \n",
    "\n",
    "    plt.scatter(lng, lat)\n",
    "    plt.plot(cstlng, cstlat)\n",
    "    pcm = plt.pcolormesh(X, Y, np.ma.masked_invalid(Zi), cmap='coolwarm')\n",
    "    plt.show()  "
   ]
  },
  {
   "cell_type": "code",
   "execution_count": 168,
   "metadata": {
    "collapsed": false
   },
   "outputs": [
    {
     "name": "stderr",
     "output_type": "stream",
     "text": [
      "/Users/kawebb/venv/lib/python2.7/site-packages/matplotlib/tri/triangulation.py:110: FutureWarning: comparison to `None` will result in an elementwise object comparison in the future.\n",
      "  self._neighbors)\n"
     ]
    },
    {
     "data": {
      "image/png": "[encoded data removed]",
      "text/plain": [
       "<matplotlib.figure.Figure at 0x1151aa650>"
      ]
     },
     "metadata": {},
     "output_type": "display_data"
    },
    {
     "ename": "NameError",
     "evalue": "name 'clat' is not defined",
     "output_type": "error",
     "traceback": [
      "\u001b[0;31m---------------------------------------------------------------------------\u001b[0m",
      "\u001b[0;31mNameError\u001b[0m                                 Traceback (most recent call last)",
      "\u001b[0;32m<ipython-input-168-878457f38518>\u001b[0m in \u001b[0;36m<module>\u001b[0;34m()\u001b[0m\n\u001b[1;32m     10\u001b[0m \u001b[0mXx\u001b[0m \u001b[0;34m=\u001b[0m \u001b[0mnp\u001b[0m\u001b[0;34m.\u001b[0m\u001b[0mvstack\u001b[0m\u001b[0;34m(\u001b[0m\u001b[0;34m(\u001b[0m\u001b[0mx\u001b[0m\u001b[0;34m,\u001b[0m\u001b[0my\u001b[0m\u001b[0;34m)\u001b[0m\u001b[0;34m)\u001b[0m\u001b[0;34m.\u001b[0m\u001b[0mT\u001b[0m\u001b[0;34m\u001b[0m\u001b[0m\n\u001b[1;32m     11\u001b[0m \u001b[0mzi\u001b[0m \u001b[0;34m=\u001b[0m \u001b[0minterpolate\u001b[0m\u001b[0;34m.\u001b[0m\u001b[0mgriddata\u001b[0m\u001b[0;34m(\u001b[0m\u001b[0mXx\u001b[0m\u001b[0;34m,\u001b[0m\u001b[0mz\u001b[0m\u001b[0;34m,\u001b[0m\u001b[0;34m(\u001b[0m\u001b[0mX\u001b[0m\u001b[0;34m,\u001b[0m\u001b[0mY\u001b[0m\u001b[0;34m)\u001b[0m\u001b[0;34m,\u001b[0m\u001b[0mmethod\u001b[0m\u001b[0;34m=\u001b[0m\u001b[0;34m'cubic'\u001b[0m\u001b[0;34m)\u001b[0m\u001b[0;34m\u001b[0m\u001b[0m\n\u001b[0;32m---> 12\u001b[0;31m \u001b[0mplt\u001b[0m\u001b[0;34m.\u001b[0m\u001b[0mscatter\u001b[0m\u001b[0;34m(\u001b[0m\u001b[0mlng\u001b[0m\u001b[0;34m,\u001b[0m \u001b[0mclat\u001b[0m\u001b[0;34m)\u001b[0m\u001b[0;34m\u001b[0m\u001b[0m\n\u001b[0m\u001b[1;32m     13\u001b[0m \u001b[0mplt\u001b[0m\u001b[0;34m.\u001b[0m\u001b[0mplot\u001b[0m\u001b[0;34m(\u001b[0m\u001b[0mcstlng\u001b[0m\u001b[0;34m,\u001b[0m \u001b[0mccstlat\u001b[0m\u001b[0;34m)\u001b[0m\u001b[0;34m\u001b[0m\u001b[0m\n\u001b[1;32m     14\u001b[0m \u001b[0mpcm\u001b[0m \u001b[0;34m=\u001b[0m \u001b[0mplt\u001b[0m\u001b[0;34m.\u001b[0m\u001b[0mpcolormesh\u001b[0m\u001b[0;34m(\u001b[0m\u001b[0mX\u001b[0m\u001b[0;34m,\u001b[0m \u001b[0mY\u001b[0m\u001b[0;34m,\u001b[0m \u001b[0mnp\u001b[0m\u001b[0;34m.\u001b[0m\u001b[0mma\u001b[0m\u001b[0;34m.\u001b[0m\u001b[0mmasked_invalid\u001b[0m\u001b[0;34m(\u001b[0m\u001b[0mzi\u001b[0m\u001b[0;34m)\u001b[0m\u001b[0;34m,\u001b[0m \u001b[0mcmap\u001b[0m\u001b[0;34m=\u001b[0m\u001b[0;34m'coolwarm'\u001b[0m\u001b[0;34m)\u001b[0m\u001b[0;34m\u001b[0m\u001b[0m\n",
      "\u001b[0;31mNameError\u001b[0m: name 'clat' is not defined"
     ]
    }
   ],
   "source": [
    "x = lng\n",
    "y = lat\n",
    "\n",
    "zi = mlab.griddata(x,y,z,xi,yi,interp='linear')\n",
    "plt.scatter(lng, lat)\n",
    "plt.plot(cstlng, cstlat)\n",
    "pcm = plt.pcolormesh(X, Y, np.ma.masked_invalid(zi), cmap='coolwarm')\n",
    "plt.show()\n",
    "\n",
    "Xx = np.vstack((x,y)).T\n",
    "zi = interpolate.griddata(Xx,z,(X,Y),method='cubic')\n",
    "plt.scatter(lng, clat)\n",
    "plt.plot(cstlng, ccstlat)\n",
    "pcm = plt.pcolormesh(X, Y, np.ma.masked_invalid(zi), cmap='coolwarm')\n",
    "plt.colorbar()\n",
    "plt.show()"
   ]
  },
  {
   "cell_type": "code",
   "execution_count": 173,
   "metadata": {
    "collapsed": false
   },
   "outputs": [
    {
     "data": {
      "image/png": "[encoded data removed]",
      "text/plain": [
       "<matplotlib.figure.Figure at 0x115123b10>"
      ]
     },
     "metadata": {},
     "output_type": "display_data"
    },
    {
     "data": {
      "image/png": "[encoded data removed]",
      "text/plain": [
       "<matplotlib.figure.Figure at 0x117acfb10>"
      ]
     },
     "metadata": {},
     "output_type": "display_data"
    }
   ],
   "source": [
    "#latexify()\n",
    "\n",
    "# Make grid - Smallest distance between points is lateral, 0.234 deg\n",
    "# np.meshgrid makes a MxN array out of x (N-vector) and y (M-vector)\n",
    "xi = np.linspace(-123.2, -123.8, 1000)\n",
    "yi = np.linspace(-0.4, 0.1, 1000)\n",
    "X, Y = np.meshgrid(xi, yi)\n",
    "z = data[:,-1]  # last measurement\n",
    "\n",
    "zi = mlab.griddata(lng,lat,z,xi,yi,interp='linear')\n",
    "fig, axs = plt.subplots(1,1, figsize=(5,5))\n",
    "axs.plot(cstlng, cstlat, '-k')\n",
    "axs.scatter(lng, lat, marker='+', color='k')\n",
    "pcm = plt.pcolormesh(X, Y, np.ma.masked_invalid(zi), cmap='coolwarm')\n",
    "axs.set_xlabel(r'Longitude [deg]') ; axs.set_ylabel(r'Latitude [deg]')\n",
    "axs.set_xlim(np.min(cstlng)-0.02, np.max(cstlng)+0.02)\n",
    "axs.set_ylim(np.min(cstlat)-0.02, np.max(cstlat)+0.02)\n",
    "axs.set_aspect(1/np.cos(48.6*np.pi/180.))\n",
    "plt.colorbar()\n",
    "plt.tight_layout()\n",
    "plt.show()\n",
    "\n",
    "Xx = np.vstack((lng,lat)).T\n",
    "zi = interpolate.griddata(Xx,z,(X,Y),method='cubic')\n",
    "plt.scatter(lng, lat)\n",
    "plt.plot(cstlng, cstlat)\n",
    "pcm = plt.pcolormesh(X, Y, np.ma.masked_invalid(zi), cmap='coolwarm')\n",
    "axs.set_xlabel(r'Longitude [deg]') ; axs.set_ylabel(r'Latitude [deg]')\n",
    "axs.set_xlim(np.min(cstlng)-0.02, np.max(cstlng)+0.02)\n",
    "axs.set_ylim(np.min(cstlat)-0.02, np.max(cstlat)+0.02)\n",
    "axs.set_aspect(1/np.cos(48.6*np.pi/180.))\n",
    "plt.colorbar()\n",
    "plt.tight_layout()\n",
    "plt.show()"
   ]
  },
  {
   "cell_type": "code",
   "execution_count": null,
   "metadata": {
    "collapsed": true
   },
   "outputs": [],
   "source": []
  },
  {
   "cell_type": "code",
   "execution_count": null,
   "metadata": {
    "collapsed": true
   },
   "outputs": [],
   "source": []
  },
  {
   "cell_type": "code",
   "execution_count": null,
   "metadata": {
    "collapsed": true
   },
   "outputs": [],
   "source": []
  },
  {
   "cell_type": "markdown",
   "metadata": {
    "collapsed": true
   },
   "source": [
    "## Look for spatial patterns in the data using empiracle orthogonal functions"
   ]
  },
  {
   "cell_type": "code",
   "execution_count": null,
   "metadata": {
    "collapsed": true
   },
   "outputs": [],
   "source": [
    "### Lag correlation coefficient - Assignment 3\n",
    "\n",
    "lag = np.arange(0,30*24)\n",
    "\n",
    "rho = lagcorr(dc, lag)\n",
    "\n",
    "x = lag/24.\n",
    "plt.plot(x, rho)\n",
    "plt.xlabel(r'$\\tau [days]$') ; plt.ylabel(r'$\\rho_{xy}(\\tau)$') ; plt.show()\n",
    "\n",
    "# There is a strong daily correlation, superimposed on a longer time scale \n",
    "#  weakening of the correlation as time gets further out.\n",
    "\n",
    "# Do the same for winter and summer months"
   ]
  },
  {
   "cell_type": "markdown",
   "metadata": {},
   "source": [
    "### Power spectral density"
   ]
  },
  {
   "cell_type": "code",
   "execution_count": 73,
   "metadata": {
    "collapsed": false
   },
   "outputs": [],
   "source": [
    "### Power spectral density\n",
    "### Cross spectral density\n",
    "\n",
    "Nfft = 2048*2\n",
    "dt = 60.   # IS THIS CORRECT?\n",
    "args = {'NFFT':Nfft, 'Fs':1./dt, 'noverlap':Nfft/2., 'window':mlab.window_hanning}\n",
    "\n",
    "fps = np.zeros((data.shape[0], Nfft/2+1))\n",
    "ps = np.zeros((data.shape[0], Nfft/2+1))\n",
    "for i in range(data.shape[0]):\n",
    "    ps[i,:], fps[i,:] = mlab.psd(data[i,:], **args)\n",
    "    \n",
    "    \n",
    "#Pdcjm, ff = mlab.csd(dc, jm, **args)"
   ]
  },
  {
   "cell_type": "code",
   "execution_count": 76,
   "metadata": {
    "collapsed": false
   },
   "outputs": [
    {
     "data": {
      "image/png": "[encoded data removed]",
      "text/plain": [
       "<matplotlib.figure.Figure at 0x117a87990>"
      ]
     },
     "metadata": {},
     "output_type": "display_data"
    }
   ],
   "source": [
    "plt.loglog(fps[0,:], ps[0,:])\n",
    "\n",
    "yr = 60.*24.*365.\n",
    "day = 60.*24.\n",
    "plt.annotate('Annual', xy=(1./yr, 1.e3),  xycoords='data', xytext=(1./yr, 1.e1), \n",
    "             textcoords='data', horizontalalignment='center', arrowprops=dict(arrowstyle=\"->\"))\n",
    "plt.annotate('Daily', xy=(1./day, 1.e3),  xycoords='data', xytext=(1./day, 1.e1), textcoords='data', \n",
    "            horizontalalignment='center', arrowprops=dict(arrowstyle=\"->\"))\n",
    "\n",
    "plt.xlabel('f [Hz]') ; plt.ylabel(r'$G_{xx}(f)\\ \\ [(^oC)^2 Hz^{-1}]$') ; plt.show()\n",
    "\n",
    "# We see a clear daily signal in the spectrum, and likely an annual signal too. \n",
    "# The spikes at higher frequencies are at harmonics of the daily frequency, and \n",
    "# are due to the fact that the temperature signal is not a precise sine-wave."
   ]
  },
  {
   "cell_type": "code",
   "execution_count": null,
   "metadata": {
    "collapsed": true
   },
   "outputs": [],
   "source": [
    "\n",
    "\n",
    "\n",
    "pxy,f=mlab.csd(x,y,**args)\n",
    "gammasq = np.abs(pxy)**2/px/py\n",
    "pha = np.angle(pxy)"
   ]
  },
  {
   "cell_type": "code",
   "execution_count": null,
   "metadata": {
    "collapsed": true
   },
   "outputs": [],
   "source": []
  },
  {
   "cell_type": "code",
   "execution_count": null,
   "metadata": {
    "collapsed": true
   },
   "outputs": [],
   "source": []
  },
  {
   "cell_type": "code",
   "execution_count": null,
   "metadata": {
    "collapsed": true
   },
   "outputs": [],
   "source": []
  },
  {
   "cell_type": "code",
   "execution_count": null,
   "metadata": {
    "collapsed": true
   },
   "outputs": [],
   "source": []
  },
  {
   "cell_type": "code",
   "execution_count": null,
   "metadata": {
    "collapsed": true
   },
   "outputs": [],
   "source": []
  },
  {
   "cell_type": "code",
   "execution_count": 55,
   "metadata": {
    "collapsed": true
   },
   "outputs": [],
   "source": [
    "SPINE_COLOR = 'gray'\n",
    "def latexify(fig_width=None, fig_height=None, columns=1):\n",
    "    \"\"\"\n",
    "    Parameters\n",
    "    ----------\n",
    "    fig_width : float, optional, inches\n",
    "    fig_height : float,  optional, inches\n",
    "    columns : {1, 2}\n",
    "    \"\"\"\n",
    "    assert(columns in [1,2])\n",
    "    if fig_width is None:\n",
    "        fig_width = 3.39 if columns==1 else 6.9 # width in inches\n",
    "    if fig_height is None:\n",
    "        golden_mean = (np.sqrt(5)-1.0)/2.0    # Aesthetic ratio\n",
    "        fig_height = fig_width*golden_mean # height in inches\n",
    "    MAX_HEIGHT_INCHES = 8.0\n",
    "    if fig_height > MAX_HEIGHT_INCHES:\n",
    "        print(\"WARNING: fig_height too large:\" + fig_height + \n",
    "              \"so will reduce to\" + MAX_HEIGHT_INCHES + \"inches.\")\n",
    "        fig_height = MAX_HEIGHT_INCHES\n",
    "    params = {'backend': 'ps',\n",
    "              #'text.latex.preamble': ['\\usepackage{gensymb}'],\n",
    "              'axes.labelsize': 8, # fontsize for x and y labels (was 10)\n",
    "              'axes.titlesize': 8,\n",
    "              'text.fontsize': 8, # was 10\n",
    "              'legend.fontsize': 8, # was 10\n",
    "              'xtick.labelsize': 8,\n",
    "              'ytick.labelsize': 8,\n",
    "              #'text.usetex': True,\n",
    "              'figure.figsize': [fig_width,fig_height],\n",
    "              'font.family': 'serif'\n",
    "    }\n",
    "    matplotlib.rcParams.update(params)\n",
    "    \n",
    "def format_axes(ax, xlabel, ylabel):\n",
    "    for spine in ['top', 'right']:\n",
    "        ax.spines[spine].set_visible(False)\n",
    "    for spine in ['left', 'bottom']:\n",
    "        ax.spines[spine].set_color(SPINE_COLOR)\n",
    "        ax.spines[spine].set_linewidth(0.5)\n",
    "    ax.xaxis.set_ticks_position('bottom')\n",
    "    ax.yaxis.set_ticks_position('left')\n",
    "    ax.set_xlabel(xlabel)\n",
    "    ax.set_ylabel(ylabel)\n",
    "    for axis in [ax.xaxis, ax.yaxis]:\n",
    "        axis.set_tick_params(direction='out', color=SPINE_COLOR)\n",
    "    return ax"
   ]
  },
  {
   "cell_type": "code",
   "execution_count": null,
   "metadata": {
    "collapsed": true
   },
   "outputs": [],
   "source": []
  }
 ],
 "metadata": {
  "kernelspec": {
   "display_name": "Python 2",
   "language": "python",
   "name": "python2"
  },
  "language_info": {
   "codemirror_mode": {
    "name": "ipython",
    "version": 2
   },
   "file_extension": ".py",
   "mimetype": "text/x-python",
   "name": "python",
   "nbconvert_exporter": "python",
   "pygments_lexer": "ipython2",
   "version": "2.7.10"
  }
 },
 "nbformat": 4,
 "nbformat_minor": 0
}
