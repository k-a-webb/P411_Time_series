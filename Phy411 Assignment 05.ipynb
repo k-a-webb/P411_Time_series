{
 "cells": [
  {
   "cell_type": "markdown",
   "metadata": {},
   "source": [
    "# P411 - Assignment 5\n",
    "Kristi Webb, Oct 16 2015\n",
    "\n",
    "github k-a-webb"
   ]
  },
  {
   "cell_type": "code",
   "execution_count": 1,
   "metadata": {
    "collapsed": true
   },
   "outputs": [],
   "source": [
    "import numpy.random as random\n",
    "import numpy as np\n",
    "import matplotlib.mlab as mlab\n",
    "import matplotlib.pyplot as plt\n",
    "import scipy.stats as stats\n",
    "%matplotlib inline"
   ]
  },
  {
   "cell_type": "markdown",
   "metadata": {},
   "source": [
    "## Q1: Distribution of power spectral estimates\n",
    "\n",
    "<div style='background:#F0F0F0'>**1** You **may** use `matplotlib.mlab.psd` for the following question, but you had best use it correctly!\n",
    "\n",
    "Using normally distributed random noise time series of length $N=2048$, show using a Monte Carlo analysis and by comparison to the theoretical probability distribution functions that:  \n",
    "</div>\n",
    "\n",
    "   1. The raw spectral estimate is indeed distributed as $\\chi^2_2$.\n",
    "   2. Show that block averaging with no overlap is distributed as $\\chi^2_{2N_{blocks}}$.\n",
    "   3. Show that block averaging with 50% overlap Hanning windows is distributed as $\\chi^2_{2N_{blocks}}$.\n",
    "\n",
    "<div style='background:#F0F0F0'>You can choose your block length, but making it an integer divisor of 2048 will make your life a lot easier.  Show that as $N_{blocks}$ is increased the variance drops (i.e. the distribution of the spectral estimates gets tighter).</div>\n",
    "\n",
    "\n",
    "<div style='background:#F0F0F0'>HINT: for this time series the individual frequency estimates are indipendent samples of the distribution, so you can use them in compiling your distributions.</div>\n",
    "\n",
    "<div style='background:#F0F0F0'>HINT: To get the pdf of the $\\chi^2_\\nu$ distribution correct, you need to \"scale\" by $\\nu^{-1}$ where $\\nu$ are the degrees of freedom.</div>\n",
    "\n",
    "<div style='background:#F0F0F0'>HINT: for good presentation, make your histograms have the same bin sizes, and compare the distributions for all three cases on the same plot.</div>\n",
    "\n",
    "<hr>"
   ]
  },
  {
   "cell_type": "markdown",
   "metadata": {},
   "source": [
    "# Raw spectral estimate"
   ]
  },
  {
   "cell_type": "code",
   "execution_count": 193,
   "metadata": {
    "collapsed": false
   },
   "outputs": [],
   "source": [
    "N = 2048\n",
    "\n",
    "def normal_dist(N):\n",
    "    x = np.random.rand(N)\n",
    "    x -= np.mean(x)  # to normalize\n",
    "    return x   \n",
    "\n",
    "def pow_spec(x, fs=1, plot=False):\n",
    "    X = np.fft.fft(x)/fs\n",
    "    N=len(x)\n",
    "    T = N/fs\n",
    "    Gxx = (2./T)*np.real(np.conj(X[:N/2])*X[:N/2])\n",
    "    f = np.arange(N/2.)/T\n",
    "    if plot:\n",
    "        plt.loglog(f,Gxx)   \n",
    "    return Gxx, f         "
   ]
  },
  {
   "cell_type": "code",
   "execution_count": 194,
   "metadata": {
    "collapsed": false
   },
   "outputs": [],
   "source": [
    "# Check that mlab.psd returns the extected power spectrum\n",
    "x = normal_dist(N)\n",
    "Gxx, f = pow_spec(x)\n",
    "Pxx, ff = mlab.psd(x, NFFT=len(x), Fs=1) # these parameters seem to work\n",
    "\n",
    "#plt.plot(f, Gxx, '-g') ; plt.plot(ff, Pxx, '-b')"
   ]
  },
  {
   "cell_type": "code",
   "execution_count": 195,
   "metadata": {
    "collapsed": false
   },
   "outputs": [],
   "source": [
    "NN = 1000\n",
    "df = 2.\n",
    "\n",
    "Gxs = np.zeros((NN,N/2)) \n",
    "\n",
    "for ind in range(NN):\n",
    "    x = normal_dist(N)\n",
    "    Gxx, f = pow_spec(x)\n",
    "    #Gxx, f = mlab.psd(x, NFFT=len(x), Fs=1)\n",
    "    Gxs[ind,:] = Gxx  \n",
    "\n",
    "Gm = np.mean(Gxs, axis=0)"
   ]
  },
  {
   "cell_type": "code",
   "execution_count": 196,
   "metadata": {
    "collapsed": false
   },
   "outputs": [
    {
     "data": {
      "image/png": "[encoded data removed]",
      "text/plain": [
       "<matplotlib.figure.Figure at 0x11f46b0d0>"
      ]
     },
     "metadata": {},
     "output_type": "display_data"
    }
   ],
   "source": [
    "Gxsf = Gxs.flat   # Take all iterations of the power spectrum calculated in the Monte Carlo simulation\n",
    "Gxsfn = (Gxsf)/np.std(Gxsf) * df  # Normalize\n",
    "\n",
    "nn, bins, patches = plt.hist(Gxsfn, 100, normed=True, histtype='step', label='Raw spectrum PSD')\n",
    "chi2 = stats.chi2.pdf(bins, df=df)\n",
    "plt.plot(bins, chi2, '-r', label=r'$\\chi^2_2$')\n",
    "plt.xlabel('Frequency [Hz]') ; plt.legend() ; plt.show()"
   ]
  },
  {
   "cell_type": "markdown",
   "metadata": {},
   "source": [
    "# Block averging"
   ]
  },
  {
   "cell_type": "code",
   "execution_count": 220,
   "metadata": {
    "collapsed": false
   },
   "outputs": [],
   "source": [
    "NN = 1000\n",
    "nblock = 8\n",
    "if N % num_blks != 0:\n",
    "    print N % num_blks # Catch the case where there are extra/missing points\n",
    "    \n",
    "df = 2. * nblock\n",
    "Nblock = N / nblock\n",
    "\n",
    "n = Nblock/2+1\n",
    "Gblocks = np.empty(NN*n)\n",
    "\n",
    "for i in range(NN):\n",
    "    #x = normal_dist(N)\n",
    "    x = np.random.randn(N)\n",
    "    a = i*n ; b = a+n  # bounds of the data set\n",
    "    Gblock, fblock = mlab.psd(x, Fs=1, NFFT=Nblock, window=mlab.window_none)  #divide into 8 blocks\n",
    "    Gblocks[a:b] = Gblock/np.mean(Gblock)"
   ]
  },
  {
   "cell_type": "code",
   "execution_count": 221,
   "metadata": {
    "collapsed": false
   },
   "outputs": [
    {
     "data": {
      "image/png": "[encoded data removed]",
      "text/plain": [
       "<matplotlib.figure.Figure at 0x12346d490>"
      ]
     },
     "metadata": {},
     "output_type": "display_data"
    }
   ],
   "source": [
    "nn, bins, patches = plt.hist(Gblocks, bins=50, normed=True, histtype='step', label='Block avgd PSD')\n",
    "chi2 = stats.chi2.pdf(bins*df, df)*df\n",
    "\n",
    "plt.plot(bins, chi2, '-r', label=r'$\\chi^2_{2N_{blocks}}$')\n",
    "plt.xlabel('Frequency [Hz]') ; plt.legend() ; plt.show()"
   ]
  },
  {
   "cell_type": "markdown",
   "metadata": {},
   "source": [
    "# block averaging with 50% overlap Hanning windows"
   ]
  },
  {
   "cell_type": "code",
   "execution_count": 226,
   "metadata": {
    "collapsed": false
   },
   "outputs": [
    {
     "data": {
      "image/png": "[encoded data removed]",
      "text/plain": [
       "<matplotlib.figure.Figure at 0x12328a5d0>"
      ]
     },
     "metadata": {},
     "output_type": "display_data"
    }
   ],
   "source": [
    "NN = 1000\n",
    "nblock = 8\n",
    "if N % num_blks != 0:\n",
    "    print N % num_blks # Catch the case where there are extra/missing points\n",
    "    \n",
    "df = 2. * nblock\n",
    "Nblock = N / nblock\n",
    "\n",
    "n = Nblock/2+1\n",
    "Gblocks = np.empty(NN*n)\n",
    "\n",
    "for i in range(NN):\n",
    "    #x = normal_dist(N)\n",
    "    x = np.random.randn(N)\n",
    "    a = i*n ; b = a+n  # bounds of the data set\n",
    "    Gblock, fblock = mlab.psd(x, Fs=1, NFFT=Nblock, noverlap=Nblock/2, window=mlab.window_none)  #divide into 8 blocks\n",
    "    Gblocks[a:b] = Gblock/np.mean(Gblock)\n",
    "    \n",
    "nn, bins, patches = plt.hist(Gblocks, bins=50, normed=True, histtype='step', label='Blk avgd PSD with 50% overlap')\n",
    "chi2 = stats.chi2.pdf(bins*df, df)*df\n",
    "\n",
    "plt.plot(bins, chi2, '-r', label=r'$\\chi^2_{2N_{blocks}}$')\n",
    "plt.xlabel('Frequency [Hz]') ; plt.legend() ; plt.show()    "
   ]
  },
  {
   "cell_type": "markdown",
   "metadata": {},
   "source": [
    "<hr>\n",
    "<div style='background:#F0F0F0'>**2**  For the Hanning window estimate, what fits better: $2N_{blocks}$ degrees of freedom or $18N_{blocks}/11$ degrees of freedom (the correct theoretical value)?  Its OK to evaluate by eye.</div>\n",
    "<hr>"
   ]
  },
  {
   "cell_type": "markdown",
   "metadata": {},
   "source": [
    "## Q2: Spectra of a \"red-noise\" signal\n",
    "\n",
    "<div style='background:#F0F0F0'> **1** Load in the Deep Cove hourly data, and compute the power spectra using some reasonable value for $N_{FFT}$, and comment on the effect of applying the Hanning window to not applying it to the spectral leakage.</div>\n",
    "<hr>"
   ]
  },
  {
   "cell_type": "code",
   "execution_count": null,
   "metadata": {
    "collapsed": true
   },
   "outputs": [],
   "source": [
    "hourdata=np.genfromtxt('http://web.uvic.ca/~jklymak/Phy411/Data/AllHourly.txt')[[6,28],2:]\n",
    "dc = hourdata[0,:]\n",
    "dc=dc[np.isfinite(dc)]"
   ]
  },
  {
   "cell_type": "code",
   "execution_count": null,
   "metadata": {
    "collapsed": true
   },
   "outputs": [],
   "source": []
  },
  {
   "cell_type": "markdown",
   "metadata": {},
   "source": [
    "<hr>\n",
    "<div style='background:#F0F0F0'> **2** Now do the same thing to the intergal of the Deep Cove data with time: $$y(t)=\\int_o^t x(t')\\ \\mathrm{d}t'$$  This is obviously a silly thing to do, but compare the spectra and comment on the difference between the Hanning window and the non-Hanning windowed data.  </div>\n",
    "<hr>"
   ]
  },
  {
   "cell_type": "code",
   "execution_count": null,
   "metadata": {
    "collapsed": true
   },
   "outputs": [],
   "source": []
  }
 ],
 "metadata": {
  "kernelspec": {
   "display_name": "Python 2",
   "language": "python",
   "name": "python2"
  },
  "language_info": {
   "codemirror_mode": {
    "name": "ipython",
    "version": 2
   },
   "file_extension": ".py",
   "mimetype": "text/x-python",
   "name": "python",
   "nbconvert_exporter": "python",
   "pygments_lexer": "ipython2",
   "version": "2.7.10"
  }
 },
 "nbformat": 4,
 "nbformat_minor": 0
}
